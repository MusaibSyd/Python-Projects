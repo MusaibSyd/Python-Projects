{
  "nbformat": 4,
  "nbformat_minor": 0,
  "metadata": {
    "colab": {
      "provenance": [],
      "authorship_tag": "ABX9TyMef4YfNy4rBhLZPArombbX",
      "include_colab_link": true
    },
    "kernelspec": {
      "name": "python3",
      "display_name": "Python 3"
    },
    "language_info": {
      "name": "python"
    }
  },
  "cells": [
    {
      "cell_type": "markdown",
      "metadata": {
        "id": "view-in-github",
        "colab_type": "text"
      },
      "source": [
        "<a href=\"https://colab.research.google.com/github/MusaibSyd/Python-Projects/blob/main/Alarm_Clock.ipynb\" target=\"_parent\"><img src=\"https://colab.research.google.com/assets/colab-badge.svg\" alt=\"Open In Colab\"/></a>"
      ]
    },
    {
      "cell_type": "code",
      "source": [
        "from datetime import datetime\n",
        "from pytz import timezone\n",
        "\n",
        "alarm_time = input(\"Enter the time fo alarm to be set HH:MM:SS\\n\")\n",
        "alarm_hour = alarm_time[0:2]\n",
        "alarm_minute = alarm_time[3:5]\n",
        "alarm_seconds = alarm_time[6:8]\n",
        "print(\"Setting up alarm..\")\n",
        "\n",
        "while True:\n",
        "  tz = timezone('EST')\n",
        "  now = datetime.now(tz) \n",
        "  currnet_hour = now.strftime(\"%I\")\n",
        "  current_minute = now.strftime(\"%M\")\n",
        "  current_seconds = now.strftime(\"%S\")\n",
        "  if (alarm_hour == current_hour):\n",
        "    if (alarm_minute == current_minute):\n",
        "      if (alarm_seconds == current_seconds):\n",
        "        print(\"WAKE UP!!!!!\")\n",
        "        break"
      ],
      "metadata": {
        "colab": {
          "base_uri": "https://localhost:8080/"
        },
        "id": "_-zDsgFuAz_J",
        "outputId": "3c163553-3c95-4a6e-cdf3-b7f6450e09d4"
      },
      "execution_count": 19,
      "outputs": [
        {
          "output_type": "stream",
          "name": "stdout",
          "text": [
            "Enter the time fo alarm to be set HH:MM:SS\n",
            "10:21:00\n",
            "Setting up alarm..\n",
            "WAKE UP!!!!!\n"
          ]
        }
      ]
    }
  ]
}