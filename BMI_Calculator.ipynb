{
  "nbformat": 4,
  "nbformat_minor": 0,
  "metadata": {
    "colab": {
      "provenance": [],
      "authorship_tag": "ABX9TyPxzOoUdqfEvqhFMxL68Dwq",
      "include_colab_link": true
    },
    "kernelspec": {
      "name": "python3",
      "display_name": "Python 3"
    },
    "language_info": {
      "name": "python"
    }
  },
  "cells": [
    {
      "cell_type": "markdown",
      "metadata": {
        "id": "view-in-github",
        "colab_type": "text"
      },
      "source": [
        "<a href=\"https://colab.research.google.com/github/MusaibSyd/Python-Projects/blob/main/BMI_Calculator.ipynb\" target=\"_parent\"><img src=\"https://colab.research.google.com/assets/colab-badge.svg\" alt=\"Open In Colab\"/></a>"
      ]
    },
    {
      "cell_type": "code",
      "source": [
        "height = float(input(\"Please enter your height in CM: \"))\n",
        "weight = float(input(\"Please enter your weight in pounds: \"))\n",
        "height = height/100 #convert to meters\n",
        "weight = weight*0.453592 #convert to kg\n",
        "bmi = weight/(height*height)\n",
        "print (f\"Here is your body mass index (BMI): \",{bmi})\n",
        "if bmi > 0:\n",
        "  if bmi < 18.5:\n",
        "    print(\"Please eat more because your underweight\")\n",
        "  elif 18.5 <= bmi < 25:\n",
        "    print(\"Awesome! your healthy\")\n",
        "  elif 25 <= bmi < 30:\n",
        "    print(\"Please eat less because your overweight\")\n",
        "  elif bmi > 30:\n",
        "    print(\"Please immediately plan a health diet because your severly overweight\")\n",
        "else:\n",
        "  (\"Enter valid details\")"
      ],
      "metadata": {
        "colab": {
          "base_uri": "https://localhost:8080/"
        },
        "id": "0FQs7Jw9Ir6a",
        "outputId": "b59fe1a8-72e5-4ec0-f905-823fc3dcaa1e"
      },
      "execution_count": 19,
      "outputs": [
        {
          "output_type": "stream",
          "name": "stdout",
          "text": [
            "Please enter your height in CM: 167\n",
            "Please enter your weight in pounds: 149\n",
            "Here is your body mass index (BMI):  {24.233643371938754}\n",
            "Awesome! your healthy\n"
          ]
        }
      ]
    }
  ]
}