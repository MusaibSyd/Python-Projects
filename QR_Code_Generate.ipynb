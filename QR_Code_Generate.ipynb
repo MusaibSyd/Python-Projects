{
  "nbformat": 4,
  "nbformat_minor": 0,
  "metadata": {
    "colab": {
      "provenance": [],
      "authorship_tag": "ABX9TyNOrFHcN1er63PuhTZIVaUa",
      "include_colab_link": true
    },
    "kernelspec": {
      "name": "python3",
      "display_name": "Python 3"
    },
    "language_info": {
      "name": "python"
    }
  },
  "cells": [
    {
      "cell_type": "markdown",
      "metadata": {
        "id": "view-in-github",
        "colab_type": "text"
      },
      "source": [
        "<a href=\"https://colab.research.google.com/github/MusaibSyd/Python-Projects/blob/main/QR_Code_Generate.ipynb\" target=\"_parent\"><img src=\"https://colab.research.google.com/assets/colab-badge.svg\" alt=\"Open In Colab\"/></a>"
      ]
    },
    {
      "cell_type": "markdown",
      "source": [
        "QR codes are used to encode and decode the data into a machine-readable form. "
      ],
      "metadata": {
        "id": "NWo_2_LcfBcZ"
      }
    },
    {
      "cell_type": "code",
      "source": [
        "! pip install pyqrcode"
      ],
      "metadata": {
        "colab": {
          "base_uri": "https://localhost:8080/"
        },
        "id": "cquWI6heeqRz",
        "outputId": "90fadf03-c596-48bb-e1c4-087684d40283"
      },
      "execution_count": 20,
      "outputs": [
        {
          "output_type": "stream",
          "name": "stdout",
          "text": [
            "Looking in indexes: https://pypi.org/simple, https://us-python.pkg.dev/colab-wheels/public/simple/\n",
            "Requirement already satisfied: pyqrcode in /usr/local/lib/python3.8/dist-packages (1.2.1)\n"
          ]
        }
      ]
    },
    {
      "cell_type": "code",
      "source": [
        "! pip install pypng"
      ],
      "metadata": {
        "colab": {
          "base_uri": "https://localhost:8080/"
        },
        "id": "BnG_clLYgqdW",
        "outputId": "99dfd943-0d64-41d5-abee-684c5866543c"
      },
      "execution_count": 21,
      "outputs": [
        {
          "output_type": "stream",
          "name": "stdout",
          "text": [
            "Looking in indexes: https://pypi.org/simple, https://us-python.pkg.dev/colab-wheels/public/simple/\n",
            "Requirement already satisfied: pypng in /usr/local/lib/python3.8/dist-packages (0.20220715.0)\n"
          ]
        }
      ]
    },
    {
      "cell_type": "code",
      "source": [
        "import pyqrcode \n",
        "from pyqrcode import QRCode \n",
        "import png"
      ],
      "metadata": {
        "id": "eu-CxRz5g9k9"
      },
      "execution_count": 22,
      "outputs": []
    },
    {
      "cell_type": "code",
      "source": [
        "s = \"https://www.python.org\""
      ],
      "metadata": {
        "id": "mdy7wRPaepRv"
      },
      "execution_count": 23,
      "outputs": []
    },
    {
      "cell_type": "code",
      "source": [
        "url = pyqrcode.create(s)"
      ],
      "metadata": {
        "id": "jt-QG9neff0X"
      },
      "execution_count": 24,
      "outputs": []
    },
    {
      "cell_type": "code",
      "source": [
        "url.svg(\"python.svg\", scale = 8)"
      ],
      "metadata": {
        "id": "VR8eREp_fkW9"
      },
      "execution_count": 27,
      "outputs": []
    },
    {
      "cell_type": "code",
      "source": [
        "url.png('python.png', scale = 6)"
      ],
      "metadata": {
        "id": "LtYyYTmSfutS"
      },
      "execution_count": 28,
      "outputs": []
    }
  ]
}